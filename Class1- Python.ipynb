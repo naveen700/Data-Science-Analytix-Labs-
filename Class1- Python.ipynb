{
 "cells": [
  {
   "cell_type": "code",
   "execution_count": 6,
   "metadata": {},
   "outputs": [
    {
     "name": "stdout",
     "output_type": "stream",
     "text": [
      "YO Minna\n"
     ]
    }
   ],
   "source": [
    "print('YO Minna')"
   ]
  },
  {
   "cell_type": "code",
   "execution_count": 7,
   "metadata": {},
   "outputs": [
    {
     "name": "stdout",
     "output_type": "stream",
     "text": [
      "yo minna\n"
     ]
    }
   ],
   "source": [
    "print('yo minna')"
   ]
  },
  {
   "cell_type": "markdown",
   "metadata": {},
   "source": [
    "**Naveen Rana**\n",
    "_Naveen Rana_\n",
    "***Naveen Rana***\n",
    "~~Naveen Rana~~\n",
    "## Heading Tags from 1 # to 6 # like html heading tags 1# being heighest and 6# being lowest\n"
   ]
  }
 ],
 "metadata": {
  "kernelspec": {
   "display_name": "Python 2",
   "language": "python",
   "name": "python2"
  },
  "language_info": {
   "codemirror_mode": {
    "name": "ipython",
    "version": 2
   },
   "file_extension": ".py",
   "mimetype": "text/x-python",
   "name": "python",
   "nbconvert_exporter": "python",
   "pygments_lexer": "ipython2",
   "version": "2.7.15"
  }
 },
 "nbformat": 4,
 "nbformat_minor": 2
}
