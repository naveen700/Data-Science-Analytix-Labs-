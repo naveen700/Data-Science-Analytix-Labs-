{
 "cells": [
  {
   "cell_type": "markdown",
   "metadata": {},
   "source": [
    "# flow control statement\n",
    "#conditional statement\n",
    "#looping statement\n"
   ]
  },
  {
   "cell_type": "code",
   "execution_count": null,
   "metadata": {},
   "outputs": [],
   "source": [
    "i = 1\n",
    "if(i>1):\n",
    "    print('i is greater  then 1')\n",
    "else:\n",
    "    print('i is less then 1 or may be equal to 1')"
   ]
  },
  {
   "cell_type": "code",
   "execution_count": null,
   "metadata": {},
   "outputs": [],
   "source": [
    "x = -10\n",
    "if(x == 0):\n",
    "    print('x is zero')\n",
    "else:\n",
    "    if(x>0):\n",
    "        print('x is greater then zero')\n",
    "    else:\n",
    "        print('x is less then zero')"
   ]
  },
  {
   "cell_type": "code",
   "execution_count": null,
   "metadata": {},
   "outputs": [],
   "source": [
    "#using elif command\n",
    "if(x == 0):\n",
    "    print('x is zero')\n",
    "elif(x > 0):\n",
    "    print('x is positive')\n",
    "else:\n",
    "    print('x is negative')\n"
   ]
  },
  {
   "cell_type": "code",
   "execution_count": null,
   "metadata": {},
   "outputs": [],
   "source": [
    "x =-10\n",
    "#in excel  we can write condition like this\n",
    "# ifelse(x>0 ,\"positive\", \"negative\")\n",
    "# we can write in  python like this\n",
    "res = \"positive\" if x > 0 else \"negative\"\n",
    "print('result  is '+res)"
   ]
  },
  {
   "cell_type": "code",
   "execution_count": null,
   "metadata": {},
   "outputs": [],
   "source": [
    "#eleif in single line like ternary\n",
    "res = \"zero\" if x == 0 else \"negative\" if x < 0 else  \"positive\""
   ]
  },
  {
   "cell_type": "code",
   "execution_count": null,
   "metadata": {},
   "outputs": [],
   "source": [
    "print res"
   ]
  },
  {
   "cell_type": "code",
   "execution_count": null,
   "metadata": {},
   "outputs": [],
   "source": [
    "#iterative loops \n",
    "# 1 conditional loops\n",
    "# 2 Ranged Loops\n"
   ]
  },
  {
   "cell_type": "code",
   "execution_count": 1,
   "metadata": {},
   "outputs": [
    {
     "name": "stdout",
     "output_type": "stream",
     "text": [
      "3\n",
      "9\n",
      "27\n"
     ]
    }
   ],
   "source": [
    "#1 condiional\n",
    "i = 1\n",
    "while(i < 27):\n",
    "    i = i*3\n",
    "    print i\n",
    "    \n",
    "    "
   ]
  },
  {
   "cell_type": "code",
   "execution_count": 2,
   "metadata": {},
   "outputs": [
    {
     "name": "stdout",
     "output_type": "stream",
     "text": [
      "1\n",
      "2\n",
      "3\n",
      "4\n",
      "5\n",
      "6\n",
      "7\n",
      "8\n",
      "9\n"
     ]
    }
   ],
   "source": [
    "#range uses : range(start ,end , incr), range gives list of elements from start to end-1\n",
    "i = 1 \n",
    "for i in range(1,10):\n",
    "    print(i)"
   ]
  },
  {
   "cell_type": "code",
   "execution_count": 3,
   "metadata": {},
   "outputs": [
    {
     "data": {
      "text/plain": [
       "[1, 2, 3, 4, 5, 6, 7, 8, 9, 10]"
      ]
     },
     "execution_count": 3,
     "metadata": {},
     "output_type": "execute_result"
    }
   ],
   "source": [
    "range(1, 11)"
   ]
  },
  {
   "cell_type": "code",
   "execution_count": null,
   "metadata": {},
   "outputs": [],
   "source": []
  }
 ],
 "metadata": {
  "kernelspec": {
   "display_name": "Python 2",
   "language": "python",
   "name": "python2"
  },
  "language_info": {
   "codemirror_mode": {
    "name": "ipython",
    "version": 2
   },
   "file_extension": ".py",
   "mimetype": "text/x-python",
   "name": "python",
   "nbconvert_exporter": "python",
   "pygments_lexer": "ipython2",
   "version": "2.7.15"
  }
 },
 "nbformat": 4,
 "nbformat_minor": 2
}
