{
 "cells": [
  {
   "cell_type": "markdown",
   "metadata": {},
   "source": [
    "#### central limit theorem proves two things\n",
    "1. sample mean follows the normal disrtibution\n",
    "2. it also gives standard error, by that we can calculate any confidence levels \n",
    "    eg:- \n",
    "         mean-1.96*se        mean+1.96*se\n",
    "             by looking at the z table we can see ,this gives 95% confidence levels\n"
   ]
  }
 ],
 "metadata": {
  "kernelspec": {
   "display_name": "Python 3",
   "language": "python",
   "name": "python3"
  },
  "language_info": {
   "codemirror_mode": {
    "name": "ipython",
    "version": 3
   },
   "file_extension": ".py",
   "mimetype": "text/x-python",
   "name": "python",
   "nbconvert_exporter": "python",
   "pygments_lexer": "ipython3",
   "version": "3.7.1"
  }
 },
 "nbformat": 4,
 "nbformat_minor": 2
}
