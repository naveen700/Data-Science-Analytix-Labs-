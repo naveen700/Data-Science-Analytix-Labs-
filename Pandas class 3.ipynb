{
 "cells": [
  {
   "cell_type": "code",
   "execution_count": 1,
   "metadata": {},
   "outputs": [
    {
     "data": {
      "text/html": [
       "<div>\n",
       "<style scoped>\n",
       "    .dataframe tbody tr th:only-of-type {\n",
       "        vertical-align: middle;\n",
       "    }\n",
       "\n",
       "    .dataframe tbody tr th {\n",
       "        vertical-align: top;\n",
       "    }\n",
       "\n",
       "    .dataframe thead th {\n",
       "        text-align: right;\n",
       "    }\n",
       "</style>\n",
       "<table border=\"1\" class=\"dataframe\">\n",
       "  <thead>\n",
       "    <tr style=\"text-align: right;\">\n",
       "      <th></th>\n",
       "      <th>Region</th>\n",
       "      <th>Country</th>\n",
       "      <th>ItemType</th>\n",
       "      <th>SalesChannel</th>\n",
       "      <th>OrderPriority</th>\n",
       "      <th>OrderDate</th>\n",
       "      <th>OrderID</th>\n",
       "      <th>TotalProfit</th>\n",
       "      <th>ShipDate</th>\n",
       "      <th>UnitsSold</th>\n",
       "      <th>UnitPrice</th>\n",
       "      <th>UnitCost</th>\n",
       "      <th>TotalRevenue</th>\n",
       "      <th>TotalCost</th>\n",
       "    </tr>\n",
       "  </thead>\n",
       "  <tbody>\n",
       "    <tr>\n",
       "      <th>0</th>\n",
       "      <td>Middle East and North Africa</td>\n",
       "      <td>Libya</td>\n",
       "      <td>Cosmetics</td>\n",
       "      <td>Offline</td>\n",
       "      <td>M</td>\n",
       "      <td>10/18/2014</td>\n",
       "      <td>686800706</td>\n",
       "      <td>1468506.02</td>\n",
       "      <td>10/31/2014</td>\n",
       "      <td>8446</td>\n",
       "      <td>437.20</td>\n",
       "      <td>263.33</td>\n",
       "      <td>3692591.20</td>\n",
       "      <td>2224085.18</td>\n",
       "    </tr>\n",
       "    <tr>\n",
       "      <th>1</th>\n",
       "      <td>North America</td>\n",
       "      <td>Canada</td>\n",
       "      <td>Vegetables</td>\n",
       "      <td>Online</td>\n",
       "      <td>M</td>\n",
       "      <td>11/7/2011</td>\n",
       "      <td>185941302</td>\n",
       "      <td>190526.34</td>\n",
       "      <td>12/8/2011</td>\n",
       "      <td>3018</td>\n",
       "      <td>154.06</td>\n",
       "      <td>90.93</td>\n",
       "      <td>464953.08</td>\n",
       "      <td>274426.74</td>\n",
       "    </tr>\n",
       "    <tr>\n",
       "      <th>2</th>\n",
       "      <td>Middle East and North Africa</td>\n",
       "      <td>Libya</td>\n",
       "      <td>Baby Food</td>\n",
       "      <td>Offline</td>\n",
       "      <td>C</td>\n",
       "      <td>10/31/2016</td>\n",
       "      <td>246222341</td>\n",
       "      <td>145419.62</td>\n",
       "      <td>12/9/2016</td>\n",
       "      <td>1517</td>\n",
       "      <td>255.28</td>\n",
       "      <td>159.42</td>\n",
       "      <td>387259.76</td>\n",
       "      <td>241840.14</td>\n",
       "    </tr>\n",
       "    <tr>\n",
       "      <th>3</th>\n",
       "      <td>Asia</td>\n",
       "      <td>Japan</td>\n",
       "      <td>Cereal</td>\n",
       "      <td>Offline</td>\n",
       "      <td>C</td>\n",
       "      <td>4/10/2010</td>\n",
       "      <td>161442649</td>\n",
       "      <td>294295.98</td>\n",
       "      <td>5/12/2010</td>\n",
       "      <td>3322</td>\n",
       "      <td>205.70</td>\n",
       "      <td>117.11</td>\n",
       "      <td>683335.40</td>\n",
       "      <td>389039.42</td>\n",
       "    </tr>\n",
       "  </tbody>\n",
       "</table>\n",
       "</div>"
      ],
      "text/plain": [
       "                         Region Country    ItemType SalesChannel  \\\n",
       "0  Middle East and North Africa   Libya   Cosmetics      Offline   \n",
       "1                 North America  Canada  Vegetables       Online   \n",
       "2  Middle East and North Africa   Libya   Baby Food      Offline   \n",
       "3                          Asia   Japan      Cereal      Offline   \n",
       "\n",
       "  OrderPriority   OrderDate    OrderID  TotalProfit    ShipDate  UnitsSold  \\\n",
       "0             M  10/18/2014  686800706   1468506.02  10/31/2014       8446   \n",
       "1             M   11/7/2011  185941302    190526.34   12/8/2011       3018   \n",
       "2             C  10/31/2016  246222341    145419.62   12/9/2016       1517   \n",
       "3             C   4/10/2010  161442649    294295.98   5/12/2010       3322   \n",
       "\n",
       "   UnitPrice  UnitCost  TotalRevenue   TotalCost  \n",
       "0     437.20    263.33    3692591.20  2224085.18  \n",
       "1     154.06     90.93     464953.08   274426.74  \n",
       "2     255.28    159.42     387259.76   241840.14  \n",
       "3     205.70    117.11     683335.40   389039.42  "
      ]
     },
     "execution_count": 1,
     "metadata": {},
     "output_type": "execute_result"
    }
   ],
   "source": [
    "import pandas as pd\n",
    "\n",
    "sales = pd.read_csv('../DataSets/1000 Sales Records.csv')\n",
    "sales['NetProfit'] = sales.TotalRevenue - sales.TotalCost\n",
    "\n",
    "sales.iloc[: , [1,2,3,4,5]] # to access coloumn using their default index.\n",
    "# it can help when coloumn name have space in it.\n",
    "\n",
    "# we can access coloumn according to our own access order. by passing coloumn index(default)\n",
    "sales.iloc[:,[2,5,3,6,7,8,9,11,14,13,10]].head(4)\n",
    "\n",
    "# re-arrange coloumns according to our own need.\n",
    "sales.iloc[:,range(0, 7) + [13] + range(7,13)].head(4)"
   ]
  },
  {
   "cell_type": "code",
   "execution_count": 2,
   "metadata": {},
   "outputs": [
    {
     "data": {
      "text/html": [
       "<div>\n",
       "<style scoped>\n",
       "    .dataframe tbody tr th:only-of-type {\n",
       "        vertical-align: middle;\n",
       "    }\n",
       "\n",
       "    .dataframe tbody tr th {\n",
       "        vertical-align: top;\n",
       "    }\n",
       "\n",
       "    .dataframe thead th {\n",
       "        text-align: right;\n",
       "    }\n",
       "</style>\n",
       "<table border=\"1\" class=\"dataframe\">\n",
       "  <thead>\n",
       "    <tr style=\"text-align: right;\">\n",
       "      <th></th>\n",
       "      <th>Region</th>\n",
       "      <th>Country</th>\n",
       "      <th>ItemType</th>\n",
       "      <th>SalesChannel</th>\n",
       "      <th>OrderPriority</th>\n",
       "      <th>OrderDate</th>\n",
       "      <th>OrderID</th>\n",
       "      <th>ShipDate</th>\n",
       "      <th>UnitsSold</th>\n",
       "      <th>UnitPrice</th>\n",
       "      <th>UnitCost</th>\n",
       "      <th>TotalRevenue</th>\n",
       "      <th>TotalCost</th>\n",
       "      <th>TotalProfit</th>\n",
       "      <th>NetProfit</th>\n",
       "    </tr>\n",
       "  </thead>\n",
       "  <tbody>\n",
       "    <tr>\n",
       "      <th>0</th>\n",
       "      <td>Middle East and North Africa</td>\n",
       "      <td>Libya</td>\n",
       "      <td>Cosmetics</td>\n",
       "      <td>Offline</td>\n",
       "      <td>M</td>\n",
       "      <td>10/18/2014</td>\n",
       "      <td>686800706</td>\n",
       "      <td>10/31/2014</td>\n",
       "      <td>8446</td>\n",
       "      <td>437.20</td>\n",
       "      <td>263.33</td>\n",
       "      <td>3692591.20</td>\n",
       "      <td>2224085.18</td>\n",
       "      <td>1468506.02</td>\n",
       "      <td>1468506.02</td>\n",
       "    </tr>\n",
       "    <tr>\n",
       "      <th>1</th>\n",
       "      <td>North America</td>\n",
       "      <td>Canada</td>\n",
       "      <td>Vegetables</td>\n",
       "      <td>Online</td>\n",
       "      <td>M</td>\n",
       "      <td>11/7/2011</td>\n",
       "      <td>185941302</td>\n",
       "      <td>12/8/2011</td>\n",
       "      <td>3018</td>\n",
       "      <td>154.06</td>\n",
       "      <td>90.93</td>\n",
       "      <td>464953.08</td>\n",
       "      <td>274426.74</td>\n",
       "      <td>190526.34</td>\n",
       "      <td>190526.34</td>\n",
       "    </tr>\n",
       "    <tr>\n",
       "      <th>2</th>\n",
       "      <td>Middle East and North Africa</td>\n",
       "      <td>Libya</td>\n",
       "      <td>Baby Food</td>\n",
       "      <td>Offline</td>\n",
       "      <td>C</td>\n",
       "      <td>10/31/2016</td>\n",
       "      <td>246222341</td>\n",
       "      <td>12/9/2016</td>\n",
       "      <td>1517</td>\n",
       "      <td>255.28</td>\n",
       "      <td>159.42</td>\n",
       "      <td>387259.76</td>\n",
       "      <td>241840.14</td>\n",
       "      <td>145419.62</td>\n",
       "      <td>145419.62</td>\n",
       "    </tr>\n",
       "    <tr>\n",
       "      <th>3</th>\n",
       "      <td>Asia</td>\n",
       "      <td>Japan</td>\n",
       "      <td>Cereal</td>\n",
       "      <td>Offline</td>\n",
       "      <td>C</td>\n",
       "      <td>4/10/2010</td>\n",
       "      <td>161442649</td>\n",
       "      <td>5/12/2010</td>\n",
       "      <td>3322</td>\n",
       "      <td>205.70</td>\n",
       "      <td>117.11</td>\n",
       "      <td>683335.40</td>\n",
       "      <td>389039.42</td>\n",
       "      <td>294295.98</td>\n",
       "      <td>294295.98</td>\n",
       "    </tr>\n",
       "  </tbody>\n",
       "</table>\n",
       "</div>"
      ],
      "text/plain": [
       "                         Region Country    ItemType SalesChannel  \\\n",
       "0  Middle East and North Africa   Libya   Cosmetics      Offline   \n",
       "1                 North America  Canada  Vegetables       Online   \n",
       "2  Middle East and North Africa   Libya   Baby Food      Offline   \n",
       "3                          Asia   Japan      Cereal      Offline   \n",
       "\n",
       "  OrderPriority   OrderDate    OrderID    ShipDate  UnitsSold  UnitPrice  \\\n",
       "0             M  10/18/2014  686800706  10/31/2014       8446     437.20   \n",
       "1             M   11/7/2011  185941302   12/8/2011       3018     154.06   \n",
       "2             C  10/31/2016  246222341   12/9/2016       1517     255.28   \n",
       "3             C   4/10/2010  161442649   5/12/2010       3322     205.70   \n",
       "\n",
       "   UnitCost  TotalRevenue   TotalCost  TotalProfit   NetProfit  \n",
       "0    263.33    3692591.20  2224085.18   1468506.02  1468506.02  \n",
       "1     90.93     464953.08   274426.74    190526.34   190526.34  \n",
       "2    159.42     387259.76   241840.14    145419.62   145419.62  \n",
       "3    117.11     683335.40   389039.42    294295.98   294295.98  "
      ]
     },
     "execution_count": 2,
     "metadata": {},
     "output_type": "execute_result"
    }
   ],
   "source": [
    "# data mining - extracting hidden and useful info from data\n",
    "#---------------------\n",
    "# -------Coloumns-----\n",
    "# getColoumns\n",
    "# subsetting\n",
    "\n",
    "# change data types\n",
    "\n",
    "    # add coloumns\n",
    "    # remove coloumns\n",
    "    # rename coloumns\n",
    "# ---------------\n",
    "\n",
    "# rename coloumns\n",
    "sales.rename(columns = {\"TotalRevenue\" : \"Total-revenue\"})\n",
    "sales.head(4)"
   ]
  },
  {
   "cell_type": "code",
   "execution_count": 3,
   "metadata": {},
   "outputs": [
    {
     "data": {
      "text/html": [
       "<div>\n",
       "<style scoped>\n",
       "    .dataframe tbody tr th:only-of-type {\n",
       "        vertical-align: middle;\n",
       "    }\n",
       "\n",
       "    .dataframe tbody tr th {\n",
       "        vertical-align: top;\n",
       "    }\n",
       "\n",
       "    .dataframe thead th {\n",
       "        text-align: right;\n",
       "    }\n",
       "</style>\n",
       "<table border=\"1\" class=\"dataframe\">\n",
       "  <thead>\n",
       "    <tr style=\"text-align: right;\">\n",
       "      <th></th>\n",
       "      <th>UnitsSold</th>\n",
       "      <th>UnitCost</th>\n",
       "      <th>TotalCost</th>\n",
       "      <th>TotalProfit</th>\n",
       "    </tr>\n",
       "  </thead>\n",
       "  <tbody>\n",
       "    <tr>\n",
       "      <th>32</th>\n",
       "      <td>293</td>\n",
       "      <td>6.92</td>\n",
       "      <td>2027.56</td>\n",
       "      <td>706.13</td>\n",
       "    </tr>\n",
       "    <tr>\n",
       "      <th>107</th>\n",
       "      <td>213</td>\n",
       "      <td>263.33</td>\n",
       "      <td>56089.29</td>\n",
       "      <td>37034.31</td>\n",
       "    </tr>\n",
       "    <tr>\n",
       "      <th>136</th>\n",
       "      <td>285</td>\n",
       "      <td>502.54</td>\n",
       "      <td>143223.90</td>\n",
       "      <td>47233.05</td>\n",
       "    </tr>\n",
       "    <tr>\n",
       "      <th>152</th>\n",
       "      <td>271</td>\n",
       "      <td>159.42</td>\n",
       "      <td>43202.82</td>\n",
       "      <td>25978.06</td>\n",
       "    </tr>\n",
       "  </tbody>\n",
       "</table>\n",
       "</div>"
      ],
      "text/plain": [
       "     UnitsSold  UnitCost  TotalCost  TotalProfit\n",
       "32         293      6.92    2027.56       706.13\n",
       "107        213    263.33   56089.29     37034.31\n",
       "136        285    502.54  143223.90     47233.05\n",
       "152        271    159.42   43202.82     25978.06"
      ]
     },
     "execution_count": 3,
     "metadata": {},
     "output_type": "execute_result"
    }
   ],
   "source": [
    "# filtering using loc \n",
    "sales.loc[(sales.UnitsSold > 200) & (sales.UnitsSold < 300),\n",
    "         [\"UnitsSold\",\"UnitCost\", \"TotalCost\", \"TotalProfit\"]].head(4)"
   ]
  },
  {
   "cell_type": "raw",
   "metadata": {},
   "source": [
    "# sorting.\n",
    "\n",
    "sales.sort_values([\"UnitsSold\",\"TotalProfit\"],ascending=[True , False])\n",
    "\n",
    "# removing duplicates\n",
    "# duplicated()\n",
    "\n",
    "# imputing  missing means filling missing values\n",
    "# NaN --> missing values\n",
    "# detect them\n",
    "    # 1 stores.info() or stores.count()\n",
    "    # 2.stores.isna() --> print true where values are missing, ~ or - can be used to reverse the boolean output.\n",
    "# remove them\n",
    "    # 1. Delete the rows which have missing values\n",
    "        stores.dropna()\n",
    "    # 2. replace missing values with zero or  empty     str\"\"\n",
    "    # 3. fill , with any central tendency - mean or median , if categorical use mode\n",
    "        # mode is that category which has highest occuring in the categorical variable.\n",
    "        # sales.colName.fillna(0)\n",
    "\n",
    "Note:- if excel has data in this way , how python will treat it\n",
    "            excel                      python\n",
    "            #N/A                       \"#N/A\"\n",
    "            NULL                       \"NULL\"\n",
    "            #Value                     \"#Value\"\n",
    "            blank                      NaN\n",
    "# binning and encoding\n",
    "\n",
    "binning is process in which continous var(which have some range from -inf to +inf like age salary) to categorical(which have power to divide the data like agegroup).\n",
    "\n",
    "Encoding -> assigning an alternative value or substitute value\n",
    "    eg:- salary        wherever present in data, substitute                         #                                          with \n",
    "             high      3\n",
    "             mid       2  \n",
    "             low       1\n",
    "\n",
    "            gender     substitue\n",
    "            1           female\n",
    "            2           male\n",
    "        \n",
    "NaN -->  stands for  missing values  here.   \n",
    "      \n",
    "# lambda\n",
    "# apply --> apply can take function and apply on every element of given series object.\n"
   ]
  },
  {
   "cell_type": "code",
   "execution_count": 4,
   "metadata": {},
   "outputs": [
    {
     "data": {
      "text/plain": [
       "False"
      ]
     },
     "execution_count": 4,
     "metadata": {},
     "output_type": "execute_result"
    }
   ],
   "source": [
    "def OddEven(x):\n",
    "    if(x % 2 == 0):\n",
    "        return True;\n",
    "    else:\n",
    "         return False;\n",
    "OddEven(13)"
   ]
  },
  {
   "cell_type": "code",
   "execution_count": 5,
   "metadata": {},
   "outputs": [],
   "source": [
    "# lambda functions \n",
    "# min/smaller noname  or anonymous function\n",
    "\n",
    "def capitalizer(x):\n",
    "    return x.upper()\n"
   ]
  },
  {
   "cell_type": "code",
   "execution_count": 6,
   "metadata": {},
   "outputs": [
    {
     "data": {
      "text/plain": [
       "'ABC'"
      ]
     },
     "execution_count": 6,
     "metadata": {},
     "output_type": "execute_result"
    }
   ],
   "source": [
    "capitalizer('abc')"
   ]
  },
  {
   "cell_type": "code",
   "execution_count": 7,
   "metadata": {},
   "outputs": [
    {
     "data": {
      "text/plain": [
       "0     LIBYA\n",
       "1    CANADA\n",
       "2     LIBYA\n",
       "3     JAPAN\n",
       "4      CHAD\n",
       "Name: Country, dtype: object"
      ]
     },
     "execution_count": 7,
     "metadata": {},
     "output_type": "execute_result"
    }
   ],
   "source": [
    "# capitalizer function can be replace with lambda function \n",
    "lambda x:x.upper()\n",
    "df =  sales.head(5)\n",
    "# apply is function by which we can apply particular function to every \n",
    "\n",
    "df.Country.apply(capitalizer)"
   ]
  },
  {
   "cell_type": "code",
   "execution_count": 8,
   "metadata": {},
   "outputs": [
    {
     "data": {
      "text/plain": [
       "0    14685060.2\n",
       "1     1905263.4\n",
       "2     1454196.2\n",
       "3     2942959.8\n",
       "4      237264.5\n",
       "Name: NetProfit, dtype: float64"
      ]
     },
     "execution_count": 8,
     "metadata": {},
     "output_type": "execute_result"
    }
   ],
   "source": [
    "lambda x : x * 1000\n",
    "df.NetProfit.apply(lambda x: x* 10)"
   ]
  },
  {
   "cell_type": "code",
   "execution_count": 9,
   "metadata": {},
   "outputs": [
    {
     "data": {
      "text/html": [
       "<div>\n",
       "<style scoped>\n",
       "    .dataframe tbody tr th:only-of-type {\n",
       "        vertical-align: middle;\n",
       "    }\n",
       "\n",
       "    .dataframe tbody tr th {\n",
       "        vertical-align: top;\n",
       "    }\n",
       "\n",
       "    .dataframe thead th {\n",
       "        text-align: right;\n",
       "    }\n",
       "</style>\n",
       "<table border=\"1\" class=\"dataframe\">\n",
       "  <thead>\n",
       "    <tr style=\"text-align: right;\">\n",
       "      <th></th>\n",
       "      <th>UnitsSold</th>\n",
       "      <th>UnitCost</th>\n",
       "      <th>NetProfit</th>\n",
       "    </tr>\n",
       "  </thead>\n",
       "  <tbody>\n",
       "    <tr>\n",
       "      <th>0</th>\n",
       "      <td>84460</td>\n",
       "      <td>2633.3</td>\n",
       "      <td>14685060.2</td>\n",
       "    </tr>\n",
       "    <tr>\n",
       "      <th>1</th>\n",
       "      <td>30180</td>\n",
       "      <td>909.3</td>\n",
       "      <td>1905263.4</td>\n",
       "    </tr>\n",
       "    <tr>\n",
       "      <th>2</th>\n",
       "      <td>15170</td>\n",
       "      <td>1594.2</td>\n",
       "      <td>1454196.2</td>\n",
       "    </tr>\n",
       "    <tr>\n",
       "      <th>3</th>\n",
       "      <td>33220</td>\n",
       "      <td>1171.1</td>\n",
       "      <td>2942959.8</td>\n",
       "    </tr>\n",
       "    <tr>\n",
       "      <th>4</th>\n",
       "      <td>98450</td>\n",
       "      <td>69.2</td>\n",
       "      <td>237264.5</td>\n",
       "    </tr>\n",
       "  </tbody>\n",
       "</table>\n",
       "</div>"
      ],
      "text/plain": [
       "   UnitsSold  UnitCost   NetProfit\n",
       "0      84460    2633.3  14685060.2\n",
       "1      30180     909.3   1905263.4\n",
       "2      15170    1594.2   1454196.2\n",
       "3      33220    1171.1   2942959.8\n",
       "4      98450      69.2    237264.5"
      ]
     },
     "execution_count": 9,
     "metadata": {},
     "output_type": "execute_result"
    }
   ],
   "source": [
    "# to apply particular function in multiple coloumns \n",
    "df[[\"UnitsSold\", \"UnitCost\", \"NetProfit\"]].apply(lambda x: x* 10)\n"
   ]
  },
  {
   "cell_type": "code",
   "execution_count": 11,
   "metadata": {},
   "outputs": [
    {
     "name": "stderr",
     "output_type": "stream",
     "text": [
      "/home/shivay/anaconda2/envs/my_env/lib/python2.7/site-packages/ipykernel_launcher.py:3: FutureWarning: using a dict on a Series for aggregation\n",
      "is deprecated and will be removed in a future version\n",
      "  This is separate from the ipykernel package so we can avoid doing imports until\n"
     ]
    },
    {
     "data": {
      "text/html": [
       "<div>\n",
       "<style scoped>\n",
       "    .dataframe tbody tr th:only-of-type {\n",
       "        vertical-align: middle;\n",
       "    }\n",
       "\n",
       "    .dataframe tbody tr th {\n",
       "        vertical-align: top;\n",
       "    }\n",
       "\n",
       "    .dataframe thead th {\n",
       "        text-align: right;\n",
       "    }\n",
       "</style>\n",
       "<table border=\"1\" class=\"dataframe\">\n",
       "  <thead>\n",
       "    <tr style=\"text-align: right;\">\n",
       "      <th></th>\n",
       "      <th>SumTotalProfit</th>\n",
       "    </tr>\n",
       "    <tr>\n",
       "      <th>Country</th>\n",
       "      <th></th>\n",
       "    </tr>\n",
       "  </thead>\n",
       "  <tbody>\n",
       "    <tr>\n",
       "      <th>Canada</th>\n",
       "      <td>190526.34</td>\n",
       "    </tr>\n",
       "    <tr>\n",
       "      <th>Chad</th>\n",
       "      <td>23726.45</td>\n",
       "    </tr>\n",
       "    <tr>\n",
       "      <th>Japan</th>\n",
       "      <td>294295.98</td>\n",
       "    </tr>\n",
       "    <tr>\n",
       "      <th>Libya</th>\n",
       "      <td>1613925.64</td>\n",
       "    </tr>\n",
       "  </tbody>\n",
       "</table>\n",
       "</div>"
      ],
      "text/plain": [
       "         SumTotalProfit\n",
       "Country                \n",
       "Canada        190526.34\n",
       "Chad           23726.45\n",
       "Japan         294295.98\n",
       "Libya        1613925.64"
      ]
     },
     "execution_count": 11,
     "metadata": {},
     "output_type": "execute_result"
    }
   ],
   "source": [
    "# groupby is a two step process first create groupby and then apply aggregate on that \n",
    "tmp = df.groupby('Country')\n",
    "tmp.TotalProfit.agg({'SumTotalProfit': 'sum'})"
   ]
  },
  {
   "cell_type": "code",
   "execution_count": null,
   "metadata": {},
   "outputs": [],
   "source": [
    "# merging or joining\n",
    "# two tables logically connected via a common value is join in very simple terms\n",
    "# joining can be done on basis of multiple scenarios.\n",
    "\n"
   ]
  },
  {
   "cell_type": "code",
   "execution_count": null,
   "metadata": {},
   "outputs": [],
   "source": []
  },
  {
   "cell_type": "code",
   "execution_count": null,
   "metadata": {},
   "outputs": [],
   "source": []
  },
  {
   "cell_type": "code",
   "execution_count": null,
   "metadata": {},
   "outputs": [],
   "source": []
  },
  {
   "cell_type": "code",
   "execution_count": null,
   "metadata": {},
   "outputs": [],
   "source": []
  },
  {
   "cell_type": "code",
   "execution_count": null,
   "metadata": {},
   "outputs": [],
   "source": []
  },
  {
   "cell_type": "code",
   "execution_count": null,
   "metadata": {},
   "outputs": [],
   "source": []
  },
  {
   "cell_type": "code",
   "execution_count": null,
   "metadata": {},
   "outputs": [],
   "source": []
  },
  {
   "cell_type": "code",
   "execution_count": null,
   "metadata": {},
   "outputs": [],
   "source": []
  },
  {
   "cell_type": "code",
   "execution_count": null,
   "metadata": {},
   "outputs": [],
   "source": []
  },
  {
   "cell_type": "code",
   "execution_count": null,
   "metadata": {},
   "outputs": [],
   "source": []
  },
  {
   "cell_type": "code",
   "execution_count": null,
   "metadata": {},
   "outputs": [],
   "source": []
  },
  {
   "cell_type": "code",
   "execution_count": null,
   "metadata": {},
   "outputs": [],
   "source": []
  },
  {
   "cell_type": "code",
   "execution_count": null,
   "metadata": {},
   "outputs": [],
   "source": []
  }
 ],
 "metadata": {
  "kernelspec": {
   "display_name": "Python 2",
   "language": "python",
   "name": "python2"
  },
  "language_info": {
   "codemirror_mode": {
    "name": "ipython",
    "version": 2
   },
   "file_extension": ".py",
   "mimetype": "text/x-python",
   "name": "python",
   "nbconvert_exporter": "python",
   "pygments_lexer": "ipython2",
   "version": "2.7.15"
  }
 },
 "nbformat": 4,
 "nbformat_minor": 2
}
