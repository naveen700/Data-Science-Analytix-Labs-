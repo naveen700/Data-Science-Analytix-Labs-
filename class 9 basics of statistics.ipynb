{
 "cells": [
  {
   "cell_type": "markdown",
   "metadata": {},
   "source": [
    "### probability distribution \n",
    "main objective of probability distribution is , for given range, what is the probability of particular set of observation belong within the range\n",
    "eg what is probability of customer have age less than 27\n",
    "  we know there is 10% probability  of users to belong in the range <27\n",
    "  \n",
    "  PDF \n",
    "  for every data , if we can generate some bins(category) and we can generate some curve for the bin and Area under that curve is Probability density function, area under that curve can be calculated using integration\n",
    "  \n",
    "  Note:- if we know functional form(equation) of our probability distribution , we can calculate any probability between any two range usign integration(calculating area under curve)"
   ]
  }
 ],
 "metadata": {
  "kernelspec": {
   "display_name": "Python 3",
   "language": "python",
   "name": "python3"
  },
  "language_info": {
   "codemirror_mode": {
    "name": "ipython",
    "version": 3
   },
   "file_extension": ".py",
   "mimetype": "text/x-python",
   "name": "python",
   "nbconvert_exporter": "python",
   "pygments_lexer": "ipython3",
   "version": "3.7.1"
  }
 },
 "nbformat": 4,
 "nbformat_minor": 2
}
